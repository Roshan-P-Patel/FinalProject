{
 "cells": [
  {
   "cell_type": "markdown",
   "id": "348e77ab",
   "metadata": {},
   "source": [
    "# Final Project\n",
    "\n",
    "Student Name: Roshan Patel <br>\n"
   ]
  },
  {
   "cell_type": "markdown",
   "id": "6b021cc5",
   "metadata": {},
   "source": [
    "This dataset is a list of all the games played in the main european leagues from the year 2008 \n",
    "until the year 2016. This dataset includes match date, score, teams, some players, and betting \n",
    "ods for the game. My project is to determine how time of the year impacts the end result of a game.\n",
    "Using this info, I would like to be able to predict a winner and score of a game."
   ]
  },
  {
   "cell_type": "markdown",
   "id": "c536d4a0",
   "metadata": {},
   "source": [
    "## Formulate the Project Research Framework\n",
    "\n",
    "### Datasets introduction\n",
    "\n",
    "This dataset is a list of all the games played in the main european leagues from the year 2008 \n",
    "until the year 2016. This dataset includes match date, score, teams, some players, and betting \n",
    "ods for the game. My project is to determine how time of the year impacts the end result of a game.\n",
    "Using this info, I would like to be able to predict a winner and score of a game.\n",
    "\n",
    "### Research topic and research goal\n",
    "\n",
    "My reasearch topic is about the statitics of a game of soccer. I will be exaining the trends and tendencies of games between 2008 and 2016, to find correlation and then predict outcomes. My goal is to be able to predict the outcome of a game given stats about the game conditions.\n",
    "\n",
    "### Specific research questions\n",
    "\n",
    "<ul>\n",
    "    <li> Can I predict the outcome of a game when given game stats? </li>\n",
    "    <li> Can I find correlation between how the betting compaines choose their odds for each game? </li>\n",
    "    <li> Can I group the data into clusters to help sort the data?</li>\n",
    "\n",
    "</ul>\n"
   ]
  },
  {
   "cell_type": "markdown",
   "id": "f2ed6d65",
   "metadata": {},
   "source": [
    "### Import libraries\n",
    "\n",
    "The first step is to import the libraries that will be used for the project. The main libraries are Pandas, MatplotLib, and sklearn. Pandas is used to read the dataset into python, so that we can do all of the other procedures on the dataset. MatplotLib is used to make graphs and other visual representations of the data. Sklearn is the library that is used to preform the machine learning algorithms. We must import many sublibraries of sklearn to use its various functionalities"
   ]
  },
  {
   "cell_type": "code",
   "execution_count": 45,
   "id": "e2240984",
   "metadata": {},
   "outputs": [],
   "source": [
    "#importing the libraries\n",
    "import pandas as pd\n",
    "import sqlite3\n",
    "import matplotlib.pyplot as mp\n",
    "import seaborn as sns\n",
    "import numpy as np\n",
    "import sklearn as sk\n",
    "\n",
    "#importing sublibraries of sklearn\n",
    "from sklearn import linear_model, preprocessing, metrics\n",
    "from sklearn.model_selection import train_test_split\n",
    "from sklearn.metrics import r2_score, f1_score,mean_squared_error\n",
    "from sklearn.neighbors import KNeighborsClassifier\n",
    "from sklearn.cluster import KMeans \n",
    "from sklearn.datasets import make_blobs \n",
    "\n",
    "%matplotlib inline"
   ]
  },
  {
   "cell_type": "markdown",
   "id": "d0f8525a",
   "metadata": {},
   "source": [
    "## Import the dataset\n",
    "\n",
    "The next step is to import the dataset into python. The dataset I am using can be found at:\n",
    "\n",
    "https://www.kaggle.com/datasets/hugomathien/soccer?resource=download&select=database.sqlite"
   ]
  },
  {
   "cell_type": "code",
   "execution_count": 46,
   "id": "045a2dae",
   "metadata": {},
   "outputs": [],
   "source": [
    "# Read sqlite query results into a pandas DataFrame\n",
    "con = sqlite3.connect(\"database.sqlite\")\n",
    "#reading two of the parts of the data set\n",
    "df_full = pd.read_sql_query(\"SELECT * from Match\", con)"
   ]
  },
  {
   "cell_type": "code",
   "execution_count": 47,
   "id": "3a368287",
   "metadata": {},
   "outputs": [
    {
     "data": {
      "text/html": [
       "<div>\n",
       "<style scoped>\n",
       "    .dataframe tbody tr th:only-of-type {\n",
       "        vertical-align: middle;\n",
       "    }\n",
       "\n",
       "    .dataframe tbody tr th {\n",
       "        vertical-align: top;\n",
       "    }\n",
       "\n",
       "    .dataframe thead th {\n",
       "        text-align: right;\n",
       "    }\n",
       "</style>\n",
       "<table border=\"1\" class=\"dataframe\">\n",
       "  <thead>\n",
       "    <tr style=\"text-align: right;\">\n",
       "      <th></th>\n",
       "      <th>id</th>\n",
       "      <th>country_id</th>\n",
       "      <th>league_id</th>\n",
       "      <th>season</th>\n",
       "      <th>stage</th>\n",
       "      <th>date</th>\n",
       "      <th>match_api_id</th>\n",
       "      <th>home_team_api_id</th>\n",
       "      <th>away_team_api_id</th>\n",
       "      <th>home_team_goal</th>\n",
       "      <th>...</th>\n",
       "      <th>SJA</th>\n",
       "      <th>VCH</th>\n",
       "      <th>VCD</th>\n",
       "      <th>VCA</th>\n",
       "      <th>GBH</th>\n",
       "      <th>GBD</th>\n",
       "      <th>GBA</th>\n",
       "      <th>BSH</th>\n",
       "      <th>BSD</th>\n",
       "      <th>BSA</th>\n",
       "    </tr>\n",
       "  </thead>\n",
       "  <tbody>\n",
       "    <tr>\n",
       "      <th>0</th>\n",
       "      <td>1</td>\n",
       "      <td>1</td>\n",
       "      <td>1</td>\n",
       "      <td>2008/2009</td>\n",
       "      <td>1</td>\n",
       "      <td>2008-08-17 00:00:00</td>\n",
       "      <td>492473</td>\n",
       "      <td>9987</td>\n",
       "      <td>9993</td>\n",
       "      <td>1</td>\n",
       "      <td>...</td>\n",
       "      <td>4.00</td>\n",
       "      <td>1.65</td>\n",
       "      <td>3.40</td>\n",
       "      <td>4.50</td>\n",
       "      <td>1.78</td>\n",
       "      <td>3.25</td>\n",
       "      <td>4.00</td>\n",
       "      <td>1.73</td>\n",
       "      <td>3.40</td>\n",
       "      <td>4.20</td>\n",
       "    </tr>\n",
       "    <tr>\n",
       "      <th>1</th>\n",
       "      <td>2</td>\n",
       "      <td>1</td>\n",
       "      <td>1</td>\n",
       "      <td>2008/2009</td>\n",
       "      <td>1</td>\n",
       "      <td>2008-08-16 00:00:00</td>\n",
       "      <td>492474</td>\n",
       "      <td>10000</td>\n",
       "      <td>9994</td>\n",
       "      <td>0</td>\n",
       "      <td>...</td>\n",
       "      <td>3.80</td>\n",
       "      <td>2.00</td>\n",
       "      <td>3.25</td>\n",
       "      <td>3.25</td>\n",
       "      <td>1.85</td>\n",
       "      <td>3.25</td>\n",
       "      <td>3.75</td>\n",
       "      <td>1.91</td>\n",
       "      <td>3.25</td>\n",
       "      <td>3.60</td>\n",
       "    </tr>\n",
       "    <tr>\n",
       "      <th>2</th>\n",
       "      <td>3</td>\n",
       "      <td>1</td>\n",
       "      <td>1</td>\n",
       "      <td>2008/2009</td>\n",
       "      <td>1</td>\n",
       "      <td>2008-08-16 00:00:00</td>\n",
       "      <td>492475</td>\n",
       "      <td>9984</td>\n",
       "      <td>8635</td>\n",
       "      <td>0</td>\n",
       "      <td>...</td>\n",
       "      <td>2.50</td>\n",
       "      <td>2.35</td>\n",
       "      <td>3.25</td>\n",
       "      <td>2.65</td>\n",
       "      <td>2.50</td>\n",
       "      <td>3.20</td>\n",
       "      <td>2.50</td>\n",
       "      <td>2.30</td>\n",
       "      <td>3.20</td>\n",
       "      <td>2.75</td>\n",
       "    </tr>\n",
       "    <tr>\n",
       "      <th>3</th>\n",
       "      <td>4</td>\n",
       "      <td>1</td>\n",
       "      <td>1</td>\n",
       "      <td>2008/2009</td>\n",
       "      <td>1</td>\n",
       "      <td>2008-08-17 00:00:00</td>\n",
       "      <td>492476</td>\n",
       "      <td>9991</td>\n",
       "      <td>9998</td>\n",
       "      <td>5</td>\n",
       "      <td>...</td>\n",
       "      <td>7.50</td>\n",
       "      <td>1.45</td>\n",
       "      <td>3.75</td>\n",
       "      <td>6.50</td>\n",
       "      <td>1.50</td>\n",
       "      <td>3.75</td>\n",
       "      <td>5.50</td>\n",
       "      <td>1.44</td>\n",
       "      <td>3.75</td>\n",
       "      <td>6.50</td>\n",
       "    </tr>\n",
       "    <tr>\n",
       "      <th>4</th>\n",
       "      <td>5</td>\n",
       "      <td>1</td>\n",
       "      <td>1</td>\n",
       "      <td>2008/2009</td>\n",
       "      <td>1</td>\n",
       "      <td>2008-08-16 00:00:00</td>\n",
       "      <td>492477</td>\n",
       "      <td>7947</td>\n",
       "      <td>9985</td>\n",
       "      <td>1</td>\n",
       "      <td>...</td>\n",
       "      <td>1.73</td>\n",
       "      <td>4.50</td>\n",
       "      <td>3.40</td>\n",
       "      <td>1.65</td>\n",
       "      <td>4.50</td>\n",
       "      <td>3.50</td>\n",
       "      <td>1.65</td>\n",
       "      <td>4.75</td>\n",
       "      <td>3.30</td>\n",
       "      <td>1.67</td>\n",
       "    </tr>\n",
       "    <tr>\n",
       "      <th>5</th>\n",
       "      <td>6</td>\n",
       "      <td>1</td>\n",
       "      <td>1</td>\n",
       "      <td>2008/2009</td>\n",
       "      <td>1</td>\n",
       "      <td>2008-09-24 00:00:00</td>\n",
       "      <td>492478</td>\n",
       "      <td>8203</td>\n",
       "      <td>8342</td>\n",
       "      <td>1</td>\n",
       "      <td>...</td>\n",
       "      <td>1.67</td>\n",
       "      <td>4.35</td>\n",
       "      <td>3.40</td>\n",
       "      <td>1.70</td>\n",
       "      <td>4.50</td>\n",
       "      <td>3.40</td>\n",
       "      <td>1.70</td>\n",
       "      <td>NaN</td>\n",
       "      <td>NaN</td>\n",
       "      <td>NaN</td>\n",
       "    </tr>\n",
       "    <tr>\n",
       "      <th>6</th>\n",
       "      <td>7</td>\n",
       "      <td>1</td>\n",
       "      <td>1</td>\n",
       "      <td>2008/2009</td>\n",
       "      <td>1</td>\n",
       "      <td>2008-08-16 00:00:00</td>\n",
       "      <td>492479</td>\n",
       "      <td>9999</td>\n",
       "      <td>8571</td>\n",
       "      <td>2</td>\n",
       "      <td>...</td>\n",
       "      <td>3.60</td>\n",
       "      <td>2.10</td>\n",
       "      <td>3.25</td>\n",
       "      <td>3.00</td>\n",
       "      <td>1.85</td>\n",
       "      <td>3.25</td>\n",
       "      <td>3.75</td>\n",
       "      <td>2.10</td>\n",
       "      <td>3.25</td>\n",
       "      <td>3.10</td>\n",
       "    </tr>\n",
       "    <tr>\n",
       "      <th>7</th>\n",
       "      <td>8</td>\n",
       "      <td>1</td>\n",
       "      <td>1</td>\n",
       "      <td>2008/2009</td>\n",
       "      <td>1</td>\n",
       "      <td>2008-08-16 00:00:00</td>\n",
       "      <td>492480</td>\n",
       "      <td>4049</td>\n",
       "      <td>9996</td>\n",
       "      <td>1</td>\n",
       "      <td>...</td>\n",
       "      <td>2.40</td>\n",
       "      <td>2.80</td>\n",
       "      <td>3.25</td>\n",
       "      <td>2.25</td>\n",
       "      <td>2.80</td>\n",
       "      <td>3.20</td>\n",
       "      <td>2.25</td>\n",
       "      <td>2.88</td>\n",
       "      <td>3.25</td>\n",
       "      <td>2.20</td>\n",
       "    </tr>\n",
       "    <tr>\n",
       "      <th>8</th>\n",
       "      <td>9</td>\n",
       "      <td>1</td>\n",
       "      <td>1</td>\n",
       "      <td>2008/2009</td>\n",
       "      <td>1</td>\n",
       "      <td>2008-08-16 00:00:00</td>\n",
       "      <td>492481</td>\n",
       "      <td>10001</td>\n",
       "      <td>9986</td>\n",
       "      <td>1</td>\n",
       "      <td>...</td>\n",
       "      <td>3.10</td>\n",
       "      <td>2.25</td>\n",
       "      <td>3.25</td>\n",
       "      <td>2.80</td>\n",
       "      <td>2.20</td>\n",
       "      <td>3.30</td>\n",
       "      <td>2.80</td>\n",
       "      <td>2.25</td>\n",
       "      <td>3.20</td>\n",
       "      <td>2.80</td>\n",
       "    </tr>\n",
       "    <tr>\n",
       "      <th>9</th>\n",
       "      <td>10</td>\n",
       "      <td>1</td>\n",
       "      <td>1</td>\n",
       "      <td>2008/2009</td>\n",
       "      <td>10</td>\n",
       "      <td>2008-11-01 00:00:00</td>\n",
       "      <td>492564</td>\n",
       "      <td>8342</td>\n",
       "      <td>8571</td>\n",
       "      <td>4</td>\n",
       "      <td>...</td>\n",
       "      <td>10.00</td>\n",
       "      <td>1.30</td>\n",
       "      <td>4.35</td>\n",
       "      <td>8.50</td>\n",
       "      <td>1.25</td>\n",
       "      <td>5.00</td>\n",
       "      <td>10.00</td>\n",
       "      <td>1.29</td>\n",
       "      <td>4.50</td>\n",
       "      <td>9.00</td>\n",
       "    </tr>\n",
       "  </tbody>\n",
       "</table>\n",
       "<p>10 rows × 115 columns</p>\n",
       "</div>"
      ],
      "text/plain": [
       "   id  country_id  league_id     season  stage                 date  \\\n",
       "0   1           1          1  2008/2009      1  2008-08-17 00:00:00   \n",
       "1   2           1          1  2008/2009      1  2008-08-16 00:00:00   \n",
       "2   3           1          1  2008/2009      1  2008-08-16 00:00:00   \n",
       "3   4           1          1  2008/2009      1  2008-08-17 00:00:00   \n",
       "4   5           1          1  2008/2009      1  2008-08-16 00:00:00   \n",
       "5   6           1          1  2008/2009      1  2008-09-24 00:00:00   \n",
       "6   7           1          1  2008/2009      1  2008-08-16 00:00:00   \n",
       "7   8           1          1  2008/2009      1  2008-08-16 00:00:00   \n",
       "8   9           1          1  2008/2009      1  2008-08-16 00:00:00   \n",
       "9  10           1          1  2008/2009     10  2008-11-01 00:00:00   \n",
       "\n",
       "   match_api_id  home_team_api_id  away_team_api_id  home_team_goal  ...  \\\n",
       "0        492473              9987              9993               1  ...   \n",
       "1        492474             10000              9994               0  ...   \n",
       "2        492475              9984              8635               0  ...   \n",
       "3        492476              9991              9998               5  ...   \n",
       "4        492477              7947              9985               1  ...   \n",
       "5        492478              8203              8342               1  ...   \n",
       "6        492479              9999              8571               2  ...   \n",
       "7        492480              4049              9996               1  ...   \n",
       "8        492481             10001              9986               1  ...   \n",
       "9        492564              8342              8571               4  ...   \n",
       "\n",
       "     SJA   VCH   VCD   VCA   GBH   GBD    GBA   BSH   BSD   BSA  \n",
       "0   4.00  1.65  3.40  4.50  1.78  3.25   4.00  1.73  3.40  4.20  \n",
       "1   3.80  2.00  3.25  3.25  1.85  3.25   3.75  1.91  3.25  3.60  \n",
       "2   2.50  2.35  3.25  2.65  2.50  3.20   2.50  2.30  3.20  2.75  \n",
       "3   7.50  1.45  3.75  6.50  1.50  3.75   5.50  1.44  3.75  6.50  \n",
       "4   1.73  4.50  3.40  1.65  4.50  3.50   1.65  4.75  3.30  1.67  \n",
       "5   1.67  4.35  3.40  1.70  4.50  3.40   1.70   NaN   NaN   NaN  \n",
       "6   3.60  2.10  3.25  3.00  1.85  3.25   3.75  2.10  3.25  3.10  \n",
       "7   2.40  2.80  3.25  2.25  2.80  3.20   2.25  2.88  3.25  2.20  \n",
       "8   3.10  2.25  3.25  2.80  2.20  3.30   2.80  2.25  3.20  2.80  \n",
       "9  10.00  1.30  4.35  8.50  1.25  5.00  10.00  1.29  4.50  9.00  \n",
       "\n",
       "[10 rows x 115 columns]"
      ]
     },
     "execution_count": 47,
     "metadata": {},
     "output_type": "execute_result"
    }
   ],
   "source": [
    "# Q1: Read the csv file and transfer the data into a DataFrame using Pandas (display the first 10 rows and \n",
    "#all columns to verify the data imported correctly)\n",
    "df_full.head(10)"
   ]
  },
  {
   "cell_type": "markdown",
   "id": "54bafb3e",
   "metadata": {},
   "source": [
    "### Data Science Analysis\n",
    "The next step is to examine the data that we are using. This includes descriptive statistics, such as the datatype of all the rows, as well as numerical summaries such as the means, maxes and standard deviation of each line. This also inclueds using graphical summaries to help visulize the data, and then analyze it. Then we must find correlation between varibles and handle blank values, and fixing them."
   ]
  },
  {
   "cell_type": "code",
   "execution_count": 48,
   "id": "7cc1f0f5",
   "metadata": {},
   "outputs": [
    {
     "data": {
      "text/plain": [
       "id              int64\n",
       "country_id      int64\n",
       "league_id       int64\n",
       "season         object\n",
       "stage           int64\n",
       "               ...   \n",
       "GBD           float64\n",
       "GBA           float64\n",
       "BSH           float64\n",
       "BSD           float64\n",
       "BSA           float64\n",
       "Length: 115, dtype: object"
      ]
     },
     "execution_count": 48,
     "metadata": {},
     "output_type": "execute_result"
    }
   ],
   "source": [
    "#Display the data types from all columns\n",
    "df_full.dtypes"
   ]
  },
  {
   "cell_type": "code",
   "execution_count": 49,
   "id": "cba61edf",
   "metadata": {},
   "outputs": [
    {
     "data": {
      "text/html": [
       "<div>\n",
       "<style scoped>\n",
       "    .dataframe tbody tr th:only-of-type {\n",
       "        vertical-align: middle;\n",
       "    }\n",
       "\n",
       "    .dataframe tbody tr th {\n",
       "        vertical-align: top;\n",
       "    }\n",
       "\n",
       "    .dataframe thead th {\n",
       "        text-align: right;\n",
       "    }\n",
       "</style>\n",
       "<table border=\"1\" class=\"dataframe\">\n",
       "  <thead>\n",
       "    <tr style=\"text-align: right;\">\n",
       "      <th></th>\n",
       "      <th>id</th>\n",
       "      <th>country_id</th>\n",
       "      <th>league_id</th>\n",
       "      <th>stage</th>\n",
       "      <th>match_api_id</th>\n",
       "      <th>home_team_api_id</th>\n",
       "      <th>away_team_api_id</th>\n",
       "      <th>home_team_goal</th>\n",
       "      <th>away_team_goal</th>\n",
       "      <th>home_player_X1</th>\n",
       "      <th>...</th>\n",
       "      <th>SJA</th>\n",
       "      <th>VCH</th>\n",
       "      <th>VCD</th>\n",
       "      <th>VCA</th>\n",
       "      <th>GBH</th>\n",
       "      <th>GBD</th>\n",
       "      <th>GBA</th>\n",
       "      <th>BSH</th>\n",
       "      <th>BSD</th>\n",
       "      <th>BSA</th>\n",
       "    </tr>\n",
       "  </thead>\n",
       "  <tbody>\n",
       "    <tr>\n",
       "      <th>count</th>\n",
       "      <td>25979.000000</td>\n",
       "      <td>25979.000000</td>\n",
       "      <td>25979.000000</td>\n",
       "      <td>25979.000000</td>\n",
       "      <td>2.597900e+04</td>\n",
       "      <td>25979.000000</td>\n",
       "      <td>25979.000000</td>\n",
       "      <td>25979.000000</td>\n",
       "      <td>25979.000000</td>\n",
       "      <td>24158.000000</td>\n",
       "      <td>...</td>\n",
       "      <td>17097.000000</td>\n",
       "      <td>22568.000000</td>\n",
       "      <td>22568.000000</td>\n",
       "      <td>22568.000000</td>\n",
       "      <td>14162.000000</td>\n",
       "      <td>14162.000000</td>\n",
       "      <td>14162.000000</td>\n",
       "      <td>14161.000000</td>\n",
       "      <td>14161.000000</td>\n",
       "      <td>14161.000000</td>\n",
       "    </tr>\n",
       "    <tr>\n",
       "      <th>mean</th>\n",
       "      <td>12990.000000</td>\n",
       "      <td>11738.630317</td>\n",
       "      <td>11738.630317</td>\n",
       "      <td>18.242773</td>\n",
       "      <td>1.195429e+06</td>\n",
       "      <td>9984.371993</td>\n",
       "      <td>9984.475115</td>\n",
       "      <td>1.544594</td>\n",
       "      <td>1.160938</td>\n",
       "      <td>0.999586</td>\n",
       "      <td>...</td>\n",
       "      <td>4.622343</td>\n",
       "      <td>2.668107</td>\n",
       "      <td>3.899048</td>\n",
       "      <td>4.840281</td>\n",
       "      <td>2.498764</td>\n",
       "      <td>3.648189</td>\n",
       "      <td>4.353097</td>\n",
       "      <td>2.497894</td>\n",
       "      <td>3.660742</td>\n",
       "      <td>4.405663</td>\n",
       "    </tr>\n",
       "    <tr>\n",
       "      <th>std</th>\n",
       "      <td>7499.635658</td>\n",
       "      <td>7553.936759</td>\n",
       "      <td>7553.936759</td>\n",
       "      <td>10.407354</td>\n",
       "      <td>4.946279e+05</td>\n",
       "      <td>14087.453758</td>\n",
       "      <td>14087.445135</td>\n",
       "      <td>1.297158</td>\n",
       "      <td>1.142110</td>\n",
       "      <td>0.022284</td>\n",
       "      <td>...</td>\n",
       "      <td>3.632164</td>\n",
       "      <td>1.928753</td>\n",
       "      <td>1.248221</td>\n",
       "      <td>4.318338</td>\n",
       "      <td>1.489299</td>\n",
       "      <td>0.867440</td>\n",
       "      <td>3.010189</td>\n",
       "      <td>1.507793</td>\n",
       "      <td>0.868272</td>\n",
       "      <td>3.189814</td>\n",
       "    </tr>\n",
       "    <tr>\n",
       "      <th>min</th>\n",
       "      <td>1.000000</td>\n",
       "      <td>1.000000</td>\n",
       "      <td>1.000000</td>\n",
       "      <td>1.000000</td>\n",
       "      <td>4.831290e+05</td>\n",
       "      <td>1601.000000</td>\n",
       "      <td>1601.000000</td>\n",
       "      <td>0.000000</td>\n",
       "      <td>0.000000</td>\n",
       "      <td>0.000000</td>\n",
       "      <td>...</td>\n",
       "      <td>1.100000</td>\n",
       "      <td>1.030000</td>\n",
       "      <td>1.620000</td>\n",
       "      <td>1.080000</td>\n",
       "      <td>1.050000</td>\n",
       "      <td>1.450000</td>\n",
       "      <td>1.120000</td>\n",
       "      <td>1.040000</td>\n",
       "      <td>1.330000</td>\n",
       "      <td>1.120000</td>\n",
       "    </tr>\n",
       "    <tr>\n",
       "      <th>25%</th>\n",
       "      <td>6495.500000</td>\n",
       "      <td>4769.000000</td>\n",
       "      <td>4769.000000</td>\n",
       "      <td>9.000000</td>\n",
       "      <td>7.684365e+05</td>\n",
       "      <td>8475.000000</td>\n",
       "      <td>8475.000000</td>\n",
       "      <td>1.000000</td>\n",
       "      <td>0.000000</td>\n",
       "      <td>1.000000</td>\n",
       "      <td>...</td>\n",
       "      <td>2.500000</td>\n",
       "      <td>1.700000</td>\n",
       "      <td>3.300000</td>\n",
       "      <td>2.550000</td>\n",
       "      <td>1.670000</td>\n",
       "      <td>3.200000</td>\n",
       "      <td>2.500000</td>\n",
       "      <td>1.670000</td>\n",
       "      <td>3.250000</td>\n",
       "      <td>2.500000</td>\n",
       "    </tr>\n",
       "    <tr>\n",
       "      <th>50%</th>\n",
       "      <td>12990.000000</td>\n",
       "      <td>10257.000000</td>\n",
       "      <td>10257.000000</td>\n",
       "      <td>18.000000</td>\n",
       "      <td>1.147511e+06</td>\n",
       "      <td>8697.000000</td>\n",
       "      <td>8697.000000</td>\n",
       "      <td>1.000000</td>\n",
       "      <td>1.000000</td>\n",
       "      <td>1.000000</td>\n",
       "      <td>...</td>\n",
       "      <td>3.500000</td>\n",
       "      <td>2.150000</td>\n",
       "      <td>3.500000</td>\n",
       "      <td>3.500000</td>\n",
       "      <td>2.100000</td>\n",
       "      <td>3.300000</td>\n",
       "      <td>3.400000</td>\n",
       "      <td>2.100000</td>\n",
       "      <td>3.400000</td>\n",
       "      <td>3.400000</td>\n",
       "    </tr>\n",
       "    <tr>\n",
       "      <th>75%</th>\n",
       "      <td>19484.500000</td>\n",
       "      <td>17642.000000</td>\n",
       "      <td>17642.000000</td>\n",
       "      <td>27.000000</td>\n",
       "      <td>1.709852e+06</td>\n",
       "      <td>9925.000000</td>\n",
       "      <td>9925.000000</td>\n",
       "      <td>2.000000</td>\n",
       "      <td>2.000000</td>\n",
       "      <td>1.000000</td>\n",
       "      <td>...</td>\n",
       "      <td>5.250000</td>\n",
       "      <td>2.800000</td>\n",
       "      <td>4.000000</td>\n",
       "      <td>5.400000</td>\n",
       "      <td>2.650000</td>\n",
       "      <td>3.750000</td>\n",
       "      <td>5.000000</td>\n",
       "      <td>2.620000</td>\n",
       "      <td>3.750000</td>\n",
       "      <td>5.000000</td>\n",
       "    </tr>\n",
       "    <tr>\n",
       "      <th>max</th>\n",
       "      <td>25979.000000</td>\n",
       "      <td>24558.000000</td>\n",
       "      <td>24558.000000</td>\n",
       "      <td>38.000000</td>\n",
       "      <td>2.216672e+06</td>\n",
       "      <td>274581.000000</td>\n",
       "      <td>274581.000000</td>\n",
       "      <td>10.000000</td>\n",
       "      <td>9.000000</td>\n",
       "      <td>2.000000</td>\n",
       "      <td>...</td>\n",
       "      <td>41.000000</td>\n",
       "      <td>36.000000</td>\n",
       "      <td>26.000000</td>\n",
       "      <td>67.000000</td>\n",
       "      <td>21.000000</td>\n",
       "      <td>11.000000</td>\n",
       "      <td>34.000000</td>\n",
       "      <td>17.000000</td>\n",
       "      <td>13.000000</td>\n",
       "      <td>34.000000</td>\n",
       "    </tr>\n",
       "  </tbody>\n",
       "</table>\n",
       "<p>8 rows × 105 columns</p>\n",
       "</div>"
      ],
      "text/plain": [
       "                 id    country_id     league_id         stage  match_api_id  \\\n",
       "count  25979.000000  25979.000000  25979.000000  25979.000000  2.597900e+04   \n",
       "mean   12990.000000  11738.630317  11738.630317     18.242773  1.195429e+06   \n",
       "std     7499.635658   7553.936759   7553.936759     10.407354  4.946279e+05   \n",
       "min        1.000000      1.000000      1.000000      1.000000  4.831290e+05   \n",
       "25%     6495.500000   4769.000000   4769.000000      9.000000  7.684365e+05   \n",
       "50%    12990.000000  10257.000000  10257.000000     18.000000  1.147511e+06   \n",
       "75%    19484.500000  17642.000000  17642.000000     27.000000  1.709852e+06   \n",
       "max    25979.000000  24558.000000  24558.000000     38.000000  2.216672e+06   \n",
       "\n",
       "       home_team_api_id  away_team_api_id  home_team_goal  away_team_goal  \\\n",
       "count      25979.000000      25979.000000    25979.000000    25979.000000   \n",
       "mean        9984.371993       9984.475115        1.544594        1.160938   \n",
       "std        14087.453758      14087.445135        1.297158        1.142110   \n",
       "min         1601.000000       1601.000000        0.000000        0.000000   \n",
       "25%         8475.000000       8475.000000        1.000000        0.000000   \n",
       "50%         8697.000000       8697.000000        1.000000        1.000000   \n",
       "75%         9925.000000       9925.000000        2.000000        2.000000   \n",
       "max       274581.000000     274581.000000       10.000000        9.000000   \n",
       "\n",
       "       home_player_X1  ...           SJA           VCH           VCD  \\\n",
       "count    24158.000000  ...  17097.000000  22568.000000  22568.000000   \n",
       "mean         0.999586  ...      4.622343      2.668107      3.899048   \n",
       "std          0.022284  ...      3.632164      1.928753      1.248221   \n",
       "min          0.000000  ...      1.100000      1.030000      1.620000   \n",
       "25%          1.000000  ...      2.500000      1.700000      3.300000   \n",
       "50%          1.000000  ...      3.500000      2.150000      3.500000   \n",
       "75%          1.000000  ...      5.250000      2.800000      4.000000   \n",
       "max          2.000000  ...     41.000000     36.000000     26.000000   \n",
       "\n",
       "                VCA           GBH           GBD           GBA           BSH  \\\n",
       "count  22568.000000  14162.000000  14162.000000  14162.000000  14161.000000   \n",
       "mean       4.840281      2.498764      3.648189      4.353097      2.497894   \n",
       "std        4.318338      1.489299      0.867440      3.010189      1.507793   \n",
       "min        1.080000      1.050000      1.450000      1.120000      1.040000   \n",
       "25%        2.550000      1.670000      3.200000      2.500000      1.670000   \n",
       "50%        3.500000      2.100000      3.300000      3.400000      2.100000   \n",
       "75%        5.400000      2.650000      3.750000      5.000000      2.620000   \n",
       "max       67.000000     21.000000     11.000000     34.000000     17.000000   \n",
       "\n",
       "                BSD           BSA  \n",
       "count  14161.000000  14161.000000  \n",
       "mean       3.660742      4.405663  \n",
       "std        0.868272      3.189814  \n",
       "min        1.330000      1.120000  \n",
       "25%        3.250000      2.500000  \n",
       "50%        3.400000      3.400000  \n",
       "75%        3.750000      5.000000  \n",
       "max       13.000000     34.000000  \n",
       "\n",
       "[8 rows x 105 columns]"
      ]
     },
     "execution_count": 49,
     "metadata": {},
     "output_type": "execute_result"
    }
   ],
   "source": [
    "#Display a numerical summary of each column e.g. count, column mean value, column standard deviation, etc ...\n",
    "df_full.describe()"
   ]
  },
  {
   "cell_type": "markdown",
   "id": "51547743",
   "metadata": {},
   "source": [
    "#### Numerical summary analysis\n",
    "\n",
    "The count displays how many rows are present for each column. All of the counts are equal to 25979. This is because \n",
    "there are exactly 25979 games in the database. The home_team_goal, and away_team_goal\n",
    "columns are the only ones that matter for my project, in addition to the date. The player IDs and betting odds do not matter for my final project.\n",
    "The mean of goals is 1.54 for home team, \n",
    "and 1.16 for away team. This means that on average the home team scored more goals than the away team. However, the standard\n",
    "deviation shows that the away team was often father from the mean than the home team was to their mean. The min shows that\n",
    "the lowest amount of goals ever scored by a home team is 0 goals, and the same applys to the away team. The max shows that \n",
    "the most goals scored by a home team is 10, and 9 goals for an away team. The 25%, 50%, and 75% show theinterquartile range \n",
    "of the dataset. in this dataset, thje 25% of the home goals is 1 for home and 0 for away. The 50% is 1 for both home and \n",
    "away, and the 75% is 2 for both home and away. "
   ]
  },
  {
   "cell_type": "code",
   "execution_count": 50,
   "id": "6e24e97b",
   "metadata": {},
   "outputs": [
    {
     "name": "stdout",
     "output_type": "stream",
     "text": [
      "id                0\n",
      "country_id        0\n",
      "league_id         0\n",
      "season            0\n",
      "stage             0\n",
      "              ...  \n",
      "GBD           11817\n",
      "GBA           11817\n",
      "BSH           11818\n",
      "BSD           11818\n",
      "BSA           11818\n",
      "Length: 115, dtype: int64\n",
      "total missing is:  407395\n"
     ]
    }
   ],
   "source": [
    "#Identify missing data, deal with the missing data, and correct the data format\n",
    "\n",
    "#How many missing values in each column from the dataset? Display the number of missing values in each column\n",
    "print(df_full.isnull().sum())\n",
    "print(\"total missing is: \",df_full.isnull().sum().sum())"
   ]
  },
  {
   "cell_type": "markdown",
   "id": "adab6466",
   "metadata": {},
   "source": [
    "### Handeling null values\n",
    "\n",
    "For each column, how you deal with the missing data, explain the reasons. Update the missing values for each column\n",
    "\n",
    "The missing data is found exclusively in the player ID and the betting odds sections. However, since this data is\n",
    "irrelevant to my project, I decided to remove those values from the dataset. This leaves me with 0 missing data,\n",
    "and a cleaner dataset with only the vallues that are needed.\n"
   ]
  },
  {
   "cell_type": "code",
   "execution_count": 51,
   "id": "922b030e",
   "metadata": {},
   "outputs": [
    {
     "name": "stdout",
     "output_type": "stream",
     "text": [
      "id                  0\n",
      "season              0\n",
      "date                0\n",
      "match_api_id        0\n",
      "home_team_api_id    0\n",
      "away_team_api_id    0\n",
      "home_team_goal      0\n",
      "away_team_goal      0\n",
      "dtype: int64\n"
     ]
    }
   ],
   "source": [
    "\n",
    "cols=['id', 'season', 'date', 'match_api_id', 'home_team_api_id', 'away_team_api_id', 'home_team_goal', 'away_team_goal']\n",
    "df=df_full[cols]\n",
    "\n",
    "#checking to make sure there are no more missing values\n",
    "\n",
    "print(df.isnull().sum())\n"
   ]
  },
  {
   "cell_type": "markdown",
   "id": "6bae4adb",
   "metadata": {},
   "source": [
    "### Creating visual summaries\n",
    "\n",
    "bar graph of number of total games played in each season. We see that they are all very similar, meaning that most seasons have similar amount of games played every year"
   ]
  },
  {
   "cell_type": "code",
   "execution_count": 52,
   "id": "9066f11e",
   "metadata": {},
   "outputs": [
    {
     "data": {
      "text/plain": [
       "Text(0, 0.5, 'number of games played (frequency)')"
      ]
     },
     "execution_count": 52,
     "metadata": {},
     "output_type": "execute_result"
    },
    {
     "data": {
      "image/png": "[encoded data removed]",
      "text/plain": [
       "<Figure size 432x288 with 1 Axes>"
      ]
     },
     "metadata": {
      "needs_background": "light"
     },
     "output_type": "display_data"
    }
   ],
   "source": [
    "\n",
    "xy=df['season'].value_counts().plot(kind='bar')\n",
    "xy.set_xlabel(\"season\")\n",
    "xy.set_ylabel(\"number of games played (frequency)\")"
   ]
  },
  {
   "cell_type": "code",
   "execution_count": 53,
   "id": "8b201f9d",
   "metadata": {},
   "outputs": [
    {
     "name": "stderr",
     "output_type": "stream",
     "text": [
      "/var/folders/cl/30rcdfwx45qfv_b8js81t09h0000gn/T/ipykernel_63633/2233321586.py:2: SettingWithCopyWarning: \n",
      "A value is trying to be set on a copy of a slice from a DataFrame.\n",
      "Try using .loc[row_indexer,col_indexer] = value instead\n",
      "\n",
      "See the caveats in the documentation: https://pandas.pydata.org/pandas-docs/stable/user_guide/indexing.html#returning-a-view-versus-a-copy\n",
      "  df['total_goals'] = df['home_team_goal'] + df['away_team_goal']\n"
     ]
    },
    {
     "data": {
      "text/plain": [
       "season     total_goals\n",
       "2008/2009  2              836\n",
       "           3              713\n",
       "           1              634\n",
       "           4              467\n",
       "           0              256\n",
       "                         ... \n",
       "2015/2016  6              156\n",
       "           7               46\n",
       "           8               11\n",
       "           9                6\n",
       "           12               1\n",
       "Name: total_goals, Length: 89, dtype: int64"
      ]
     },
     "execution_count": 53,
     "metadata": {},
     "output_type": "execute_result"
    }
   ],
   "source": [
    "\n",
    "#My quantative data is the total number of goals scored, compared to each season\n",
    "df['total_goals'] = df['home_team_goal'] + df['away_team_goal']\n",
    "df2 = df.groupby(['season']).sum()\n",
    "df3=df.groupby(['season'])['total_goals'].value_counts()\n",
    "df3"
   ]
  },
  {
   "cell_type": "markdown",
   "id": "9e500282",
   "metadata": {},
   "source": [
    "### Creating visual summaries\n",
    "\n",
    "Creating a histogram and boxplot to compare total number of goals scored and season. The histogram shows how often a certain amount of goals per season appears. The box plot shows the toal amount of goals scored each season, and is sepreated by which season it took place in"
   ]
  },
  {
   "cell_type": "code",
   "execution_count": 54,
   "id": "82ba1521",
   "metadata": {},
   "outputs": [
    {
     "data": {
      "text/plain": [
       "<AxesSubplot:ylabel='Frequency'>"
      ]
     },
     "execution_count": 54,
     "metadata": {},
     "output_type": "execute_result"
    },
    {
     "data": {
      "image/png": "[encoded data removed]",
      "text/plain": [
       "<Figure size 432x288 with 1 Axes>"
      ]
     },
     "metadata": {
      "needs_background": "light"
     },
     "output_type": "display_data"
    }
   ],
   "source": [
    "#For quantitative variable create a histogram and a boxplots grouped by categorical\n",
    "\n",
    "#histogram\n",
    "df2.plot( y=\"total_goals\", kind=\"hist\", color=\"C2\")\n"
   ]
  },
  {
   "cell_type": "code",
   "execution_count": 55,
   "id": "b7558c70",
   "metadata": {},
   "outputs": [
    {
     "data": {
      "text/plain": [
       "Text(0, 0.5, 'total goals')"
      ]
     },
     "execution_count": 55,
     "metadata": {},
     "output_type": "execute_result"
    },
    {
     "data": {
      "image/png": "[encoded data removed]",
      "text/plain": [
       "<Figure size 1296x432 with 1 Axes>"
      ]
     },
     "metadata": {
      "needs_background": "light"
     },
     "output_type": "display_data"
    }
   ],
   "source": [
    "#boxplot\n",
    "\n",
    "df4=df3.to_frame()\n",
    "df4=df4.rename(columns={\"total_goals\":\"all_goals\"})\n",
    "df4.reset_index()\n",
    "bbplot=df4.boxplot(by='season',figsize=(18,6),return_type='axes')\n",
    "bbplot[0].set_ylabel('total goals')"
   ]
  },
  {
   "cell_type": "code",
   "execution_count": null,
   "id": "0e2a5f9b",
   "metadata": {},
   "outputs": [],
   "source": []
  },
  {
   "cell_type": "markdown",
   "id": "633bd5f5",
   "metadata": {},
   "source": [
    "### Correlation and regression\n",
    "\n",
    "First, we calculate the correlation between all of the betting odds for each company. The closser the number is to 1, the better the correlation is. The Aberivations follow the following key:\n",
    "    \n",
    "BS_ = Blue Square\n",
    "\n",
    "GB_ = GameBrokers\n",
    "\n",
    "VC_ = VC Bets\n",
    "\n",
    "SJ_ = Stan James\n",
    "\n",
    "\n",
    "_ _H = Home team wins odds\n",
    "\n",
    "_ _D = Draw odds\n",
    " \n",
    "_ _A = Away team wins odds"
   ]
  },
  {
   "cell_type": "code",
   "execution_count": 56,
   "id": "810723a8",
   "metadata": {},
   "outputs": [
    {
     "data": {
      "text/html": [
       "<div>\n",
       "<style scoped>\n",
       "    .dataframe tbody tr th:only-of-type {\n",
       "        vertical-align: middle;\n",
       "    }\n",
       "\n",
       "    .dataframe tbody tr th {\n",
       "        vertical-align: top;\n",
       "    }\n",
       "\n",
       "    .dataframe thead th {\n",
       "        text-align: right;\n",
       "    }\n",
       "</style>\n",
       "<table border=\"1\" class=\"dataframe\">\n",
       "  <thead>\n",
       "    <tr style=\"text-align: right;\">\n",
       "      <th></th>\n",
       "      <th>SJH</th>\n",
       "      <th>SJD</th>\n",
       "      <th>SJA</th>\n",
       "      <th>VCH</th>\n",
       "      <th>VCD</th>\n",
       "      <th>VCA</th>\n",
       "      <th>GBH</th>\n",
       "      <th>GBD</th>\n",
       "      <th>GBA</th>\n",
       "      <th>BSH</th>\n",
       "      <th>BSD</th>\n",
       "      <th>BSA</th>\n",
       "    </tr>\n",
       "  </thead>\n",
       "  <tbody>\n",
       "    <tr>\n",
       "      <th>SJH</th>\n",
       "      <td>1.000000</td>\n",
       "      <td>-0.019656</td>\n",
       "      <td>-0.486504</td>\n",
       "      <td>0.986818</td>\n",
       "      <td>-0.015998</td>\n",
       "      <td>-0.462940</td>\n",
       "      <td>0.987314</td>\n",
       "      <td>-0.025048</td>\n",
       "      <td>-0.522089</td>\n",
       "      <td>0.987664</td>\n",
       "      <td>-0.032365</td>\n",
       "      <td>-0.506825</td>\n",
       "    </tr>\n",
       "    <tr>\n",
       "      <th>SJD</th>\n",
       "      <td>-0.019656</td>\n",
       "      <td>1.000000</td>\n",
       "      <td>0.833574</td>\n",
       "      <td>-0.004513</td>\n",
       "      <td>0.962232</td>\n",
       "      <td>0.838904</td>\n",
       "      <td>-0.043753</td>\n",
       "      <td>0.972953</td>\n",
       "      <td>0.812292</td>\n",
       "      <td>-0.039581</td>\n",
       "      <td>0.970991</td>\n",
       "      <td>0.820617</td>\n",
       "    </tr>\n",
       "    <tr>\n",
       "      <th>SJA</th>\n",
       "      <td>-0.486504</td>\n",
       "      <td>0.833574</td>\n",
       "      <td>1.000000</td>\n",
       "      <td>-0.472875</td>\n",
       "      <td>0.816432</td>\n",
       "      <td>0.968328</td>\n",
       "      <td>-0.508958</td>\n",
       "      <td>0.827845</td>\n",
       "      <td>0.976786</td>\n",
       "      <td>-0.504323</td>\n",
       "      <td>0.829261</td>\n",
       "      <td>0.975342</td>\n",
       "    </tr>\n",
       "    <tr>\n",
       "      <th>VCH</th>\n",
       "      <td>0.986818</td>\n",
       "      <td>-0.004513</td>\n",
       "      <td>-0.472875</td>\n",
       "      <td>1.000000</td>\n",
       "      <td>0.038293</td>\n",
       "      <td>-0.419963</td>\n",
       "      <td>0.984229</td>\n",
       "      <td>-0.005970</td>\n",
       "      <td>-0.507240</td>\n",
       "      <td>0.984914</td>\n",
       "      <td>-0.013355</td>\n",
       "      <td>-0.492112</td>\n",
       "    </tr>\n",
       "    <tr>\n",
       "      <th>VCD</th>\n",
       "      <td>-0.015998</td>\n",
       "      <td>0.962232</td>\n",
       "      <td>0.816432</td>\n",
       "      <td>0.038293</td>\n",
       "      <td>1.000000</td>\n",
       "      <td>0.843782</td>\n",
       "      <td>-0.036787</td>\n",
       "      <td>0.967723</td>\n",
       "      <td>0.798012</td>\n",
       "      <td>-0.032143</td>\n",
       "      <td>0.968236</td>\n",
       "      <td>0.807773</td>\n",
       "    </tr>\n",
       "    <tr>\n",
       "      <th>VCA</th>\n",
       "      <td>-0.462940</td>\n",
       "      <td>0.838904</td>\n",
       "      <td>0.968328</td>\n",
       "      <td>-0.419963</td>\n",
       "      <td>0.843782</td>\n",
       "      <td>1.000000</td>\n",
       "      <td>-0.491449</td>\n",
       "      <td>0.838400</td>\n",
       "      <td>0.968117</td>\n",
       "      <td>-0.486699</td>\n",
       "      <td>0.842956</td>\n",
       "      <td>0.971111</td>\n",
       "    </tr>\n",
       "    <tr>\n",
       "      <th>GBH</th>\n",
       "      <td>0.987314</td>\n",
       "      <td>-0.043753</td>\n",
       "      <td>-0.508958</td>\n",
       "      <td>0.984229</td>\n",
       "      <td>-0.036787</td>\n",
       "      <td>-0.491449</td>\n",
       "      <td>1.000000</td>\n",
       "      <td>-0.041856</td>\n",
       "      <td>-0.539445</td>\n",
       "      <td>0.988317</td>\n",
       "      <td>-0.049098</td>\n",
       "      <td>-0.523106</td>\n",
       "    </tr>\n",
       "    <tr>\n",
       "      <th>GBD</th>\n",
       "      <td>-0.025048</td>\n",
       "      <td>0.972953</td>\n",
       "      <td>0.827845</td>\n",
       "      <td>-0.005970</td>\n",
       "      <td>0.967723</td>\n",
       "      <td>0.838400</td>\n",
       "      <td>-0.041856</td>\n",
       "      <td>1.000000</td>\n",
       "      <td>0.816672</td>\n",
       "      <td>-0.037814</td>\n",
       "      <td>0.980017</td>\n",
       "      <td>0.825114</td>\n",
       "    </tr>\n",
       "    <tr>\n",
       "      <th>GBA</th>\n",
       "      <td>-0.522089</td>\n",
       "      <td>0.812292</td>\n",
       "      <td>0.976786</td>\n",
       "      <td>-0.507240</td>\n",
       "      <td>0.798012</td>\n",
       "      <td>0.968117</td>\n",
       "      <td>-0.539445</td>\n",
       "      <td>0.816672</td>\n",
       "      <td>1.000000</td>\n",
       "      <td>-0.533729</td>\n",
       "      <td>0.818980</td>\n",
       "      <td>0.980309</td>\n",
       "    </tr>\n",
       "    <tr>\n",
       "      <th>BSH</th>\n",
       "      <td>0.987664</td>\n",
       "      <td>-0.039581</td>\n",
       "      <td>-0.504323</td>\n",
       "      <td>0.984914</td>\n",
       "      <td>-0.032143</td>\n",
       "      <td>-0.486699</td>\n",
       "      <td>0.988317</td>\n",
       "      <td>-0.037814</td>\n",
       "      <td>-0.533729</td>\n",
       "      <td>1.000000</td>\n",
       "      <td>-0.043640</td>\n",
       "      <td>-0.519117</td>\n",
       "    </tr>\n",
       "    <tr>\n",
       "      <th>BSD</th>\n",
       "      <td>-0.032365</td>\n",
       "      <td>0.970991</td>\n",
       "      <td>0.829261</td>\n",
       "      <td>-0.013355</td>\n",
       "      <td>0.968236</td>\n",
       "      <td>0.842956</td>\n",
       "      <td>-0.049098</td>\n",
       "      <td>0.980017</td>\n",
       "      <td>0.818980</td>\n",
       "      <td>-0.043640</td>\n",
       "      <td>1.000000</td>\n",
       "      <td>0.828611</td>\n",
       "    </tr>\n",
       "    <tr>\n",
       "      <th>BSA</th>\n",
       "      <td>-0.506825</td>\n",
       "      <td>0.820617</td>\n",
       "      <td>0.975342</td>\n",
       "      <td>-0.492112</td>\n",
       "      <td>0.807773</td>\n",
       "      <td>0.971111</td>\n",
       "      <td>-0.523106</td>\n",
       "      <td>0.825114</td>\n",
       "      <td>0.980309</td>\n",
       "      <td>-0.519117</td>\n",
       "      <td>0.828611</td>\n",
       "      <td>1.000000</td>\n",
       "    </tr>\n",
       "  </tbody>\n",
       "</table>\n",
       "</div>"
      ],
      "text/plain": [
       "          SJH       SJD       SJA       VCH       VCD       VCA       GBH  \\\n",
       "SJH  1.000000 -0.019656 -0.486504  0.986818 -0.015998 -0.462940  0.987314   \n",
       "SJD -0.019656  1.000000  0.833574 -0.004513  0.962232  0.838904 -0.043753   \n",
       "SJA -0.486504  0.833574  1.000000 -0.472875  0.816432  0.968328 -0.508958   \n",
       "VCH  0.986818 -0.004513 -0.472875  1.000000  0.038293 -0.419963  0.984229   \n",
       "VCD -0.015998  0.962232  0.816432  0.038293  1.000000  0.843782 -0.036787   \n",
       "VCA -0.462940  0.838904  0.968328 -0.419963  0.843782  1.000000 -0.491449   \n",
       "GBH  0.987314 -0.043753 -0.508958  0.984229 -0.036787 -0.491449  1.000000   \n",
       "GBD -0.025048  0.972953  0.827845 -0.005970  0.967723  0.838400 -0.041856   \n",
       "GBA -0.522089  0.812292  0.976786 -0.507240  0.798012  0.968117 -0.539445   \n",
       "BSH  0.987664 -0.039581 -0.504323  0.984914 -0.032143 -0.486699  0.988317   \n",
       "BSD -0.032365  0.970991  0.829261 -0.013355  0.968236  0.842956 -0.049098   \n",
       "BSA -0.506825  0.820617  0.975342 -0.492112  0.807773  0.971111 -0.523106   \n",
       "\n",
       "          GBD       GBA       BSH       BSD       BSA  \n",
       "SJH -0.025048 -0.522089  0.987664 -0.032365 -0.506825  \n",
       "SJD  0.972953  0.812292 -0.039581  0.970991  0.820617  \n",
       "SJA  0.827845  0.976786 -0.504323  0.829261  0.975342  \n",
       "VCH -0.005970 -0.507240  0.984914 -0.013355 -0.492112  \n",
       "VCD  0.967723  0.798012 -0.032143  0.968236  0.807773  \n",
       "VCA  0.838400  0.968117 -0.486699  0.842956  0.971111  \n",
       "GBH -0.041856 -0.539445  0.988317 -0.049098 -0.523106  \n",
       "GBD  1.000000  0.816672 -0.037814  0.980017  0.825114  \n",
       "GBA  0.816672  1.000000 -0.533729  0.818980  0.980309  \n",
       "BSH -0.037814 -0.533729  1.000000 -0.043640 -0.519117  \n",
       "BSD  0.980017  0.818980 -0.043640  1.000000  0.828611  \n",
       "BSA  0.825114  0.980309 -0.519117  0.828611  1.000000  "
      ]
     },
     "execution_count": 56,
     "metadata": {},
     "output_type": "execute_result"
    }
   ],
   "source": [
    "#correlation coeficient for all of the odds compared to each other\n",
    "df_full[['SJH','SJD','SJA','VCH','VCD', 'VCA','GBH','GBD', 'GBA','BSH','BSD', 'BSA']].corr()"
   ]
  },
  {
   "cell_type": "markdown",
   "id": "39a28a97",
   "metadata": {},
   "source": [
    "\n",
    "<br>\n",
    "This is a line of best fit drawn for the two companies. This means, when given the betting odds for one company, we can make a good guess on what the other company will bet\n",
    "<br>\n"
   ]
  },
  {
   "cell_type": "code",
   "execution_count": 57,
   "id": "41ba5d46",
   "metadata": {},
   "outputs": [
    {
     "data": {
      "text/plain": [
       "Text(0, 0.5, 'Gamebrokers Home Wins odds')"
      ]
     },
     "execution_count": 57,
     "metadata": {},
     "output_type": "execute_result"
    },
    {
     "data": {
      "image/png": "[encoded data removed]",
      "text/plain": [
       "<Figure size 432x288 with 1 Axes>"
      ]
     },
     "metadata": {
      "needs_background": "light"
     },
     "output_type": "display_data"
    }
   ],
   "source": [
    "#scatter plot for VC Bets home wins odds, and Gamebrokers home team winners odds\n",
    "l=sns.regplot(x=df_full[\"VCH\"], y=df_full[\"GBH\"], data=df_full,line_kws={\"color\": \"red\"})\n",
    "l.set_xlabel(\"VC Bets Home Wins odds\", fontsize = 10)\n",
    "l.set_ylabel(\"Gamebrokers Home Wins odds\", fontsize = 10)"
   ]
  },
  {
   "cell_type": "code",
   "execution_count": 58,
   "id": "675091c6",
   "metadata": {},
   "outputs": [
    {
     "data": {
      "text/plain": [
       "Text(0, 0.5, 'Blue Square Draw odds')"
      ]
     },
     "execution_count": 58,
     "metadata": {},
     "output_type": "execute_result"
    },
    {
     "data": {
      "image/png": "[encoded data removed]",
      "text/plain": [
       "<Figure size 432x288 with 1 Axes>"
      ]
     },
     "metadata": {
      "needs_background": "light"
     },
     "output_type": "display_data"
    }
   ],
   "source": [
    "#scatter plot for Stan James draw odds, and Blue Square Draw odds\n",
    "\n",
    "p=sns.regplot(x=df_full[\"SJD\"], y=df_full[\"BSD\"], data=df_full,line_kws={\"color\": \"red\"})\n",
    "p.set_xlabel(\"Stan James Draw odds\", fontsize = 10)\n",
    "p.set_ylabel(\"Blue Square Draw odds\", fontsize = 10)"
   ]
  },
  {
   "cell_type": "markdown",
   "id": "a5d963af",
   "metadata": {},
   "source": [
    "#### Justifying the results\n",
    "\n",
    "\n",
    "These results prove a clear correlation between all of the betting orginzations. Both the draw comparison and \n",
    "the home team wins comparison show a correlation coeficient greater than .97. This makes sense since many betting\n",
    "companies use similar processes to determine the odds. The scatter plots prove this point."
   ]
  },
  {
   "cell_type": "markdown",
   "id": "d6711f7e",
   "metadata": {},
   "source": [
    "### Missing data (null values) handling\n",
    "\n",
    "For the rest of the data, I will not need all of the columns that is included in the full dataset. I made a new dataset that only contains the columns that I nead. This helps me remove most of the columns with many null values. For the rest of the columns, To handel null values, I replaced the number with the mean of the column. This means that all of the null rows in a certain column will be the same, which is the average of that column."
   ]
  },
  {
   "cell_type": "code",
   "execution_count": 59,
   "id": "e465555c",
   "metadata": {},
   "outputs": [],
   "source": [
    "#remove all extra columns and fill NaN with it's columns means\n",
    "df_small = df_full[df_full.columns.drop(list(df_full.filter(regex='player')))]\n",
    "df_small = df_small.drop(['id','country_id','league_id','match_api_id','home_team_api_id','away_team_api_id','date','stage','season','goal', 'shoton', 'shotoff','foulcommit','card','cross','corner', 'possession'],axis=1)\n",
    "df_small=df_small.fillna(df_small.mean())"
   ]
  },
  {
   "cell_type": "code",
   "execution_count": 60,
   "id": "ee573db6",
   "metadata": {},
   "outputs": [
    {
     "data": {
      "text/plain": [
       "home_team_goal    0\n",
       "away_team_goal    0\n",
       "B365H             0\n",
       "B365D             0\n",
       "B365A             0\n",
       "BWH               0\n",
       "BWD               0\n",
       "BWA               0\n",
       "IWH               0\n",
       "IWD               0\n",
       "IWA               0\n",
       "LBH               0\n",
       "LBD               0\n",
       "LBA               0\n",
       "PSH               0\n",
       "PSD               0\n",
       "PSA               0\n",
       "WHH               0\n",
       "WHD               0\n",
       "WHA               0\n",
       "SJH               0\n",
       "SJD               0\n",
       "SJA               0\n",
       "VCH               0\n",
       "VCD               0\n",
       "VCA               0\n",
       "GBH               0\n",
       "GBD               0\n",
       "GBA               0\n",
       "BSH               0\n",
       "BSD               0\n",
       "BSA               0\n",
       "dtype: int64"
      ]
     },
     "execution_count": 60,
     "metadata": {},
     "output_type": "execute_result"
    }
   ],
   "source": [
    "#confirm that there is no remaining nulls\n",
    "df_small.isnull().sum(axis=0)"
   ]
  },
  {
   "cell_type": "code",
   "execution_count": 61,
   "id": "dff52253",
   "metadata": {},
   "outputs": [
    {
     "data": {
      "text/html": [
       "<div>\n",
       "<style scoped>\n",
       "    .dataframe tbody tr th:only-of-type {\n",
       "        vertical-align: middle;\n",
       "    }\n",
       "\n",
       "    .dataframe tbody tr th {\n",
       "        vertical-align: top;\n",
       "    }\n",
       "\n",
       "    .dataframe thead th {\n",
       "        text-align: right;\n",
       "    }\n",
       "</style>\n",
       "<table border=\"1\" class=\"dataframe\">\n",
       "  <thead>\n",
       "    <tr style=\"text-align: right;\">\n",
       "      <th></th>\n",
       "      <th>home_team_goal</th>\n",
       "      <th>away_team_goal</th>\n",
       "      <th>B365H</th>\n",
       "      <th>B365D</th>\n",
       "      <th>B365A</th>\n",
       "      <th>BWH</th>\n",
       "      <th>BWD</th>\n",
       "      <th>BWA</th>\n",
       "      <th>IWH</th>\n",
       "      <th>IWD</th>\n",
       "      <th>...</th>\n",
       "      <th>SJA</th>\n",
       "      <th>VCH</th>\n",
       "      <th>VCD</th>\n",
       "      <th>VCA</th>\n",
       "      <th>GBH</th>\n",
       "      <th>GBD</th>\n",
       "      <th>GBA</th>\n",
       "      <th>BSH</th>\n",
       "      <th>BSD</th>\n",
       "      <th>BSA</th>\n",
       "    </tr>\n",
       "  </thead>\n",
       "  <tbody>\n",
       "    <tr>\n",
       "      <th>0</th>\n",
       "      <td>1</td>\n",
       "      <td>1</td>\n",
       "      <td>1.73</td>\n",
       "      <td>3.40</td>\n",
       "      <td>5.00</td>\n",
       "      <td>1.75</td>\n",
       "      <td>3.35</td>\n",
       "      <td>4.20</td>\n",
       "      <td>1.85</td>\n",
       "      <td>3.2</td>\n",
       "      <td>...</td>\n",
       "      <td>4.00</td>\n",
       "      <td>1.65</td>\n",
       "      <td>3.40</td>\n",
       "      <td>4.50</td>\n",
       "      <td>1.78</td>\n",
       "      <td>3.25</td>\n",
       "      <td>4.00</td>\n",
       "      <td>1.73</td>\n",
       "      <td>3.40</td>\n",
       "      <td>4.20</td>\n",
       "    </tr>\n",
       "    <tr>\n",
       "      <th>1</th>\n",
       "      <td>0</td>\n",
       "      <td>0</td>\n",
       "      <td>1.95</td>\n",
       "      <td>3.20</td>\n",
       "      <td>3.60</td>\n",
       "      <td>1.80</td>\n",
       "      <td>3.30</td>\n",
       "      <td>3.95</td>\n",
       "      <td>1.90</td>\n",
       "      <td>3.2</td>\n",
       "      <td>...</td>\n",
       "      <td>3.80</td>\n",
       "      <td>2.00</td>\n",
       "      <td>3.25</td>\n",
       "      <td>3.25</td>\n",
       "      <td>1.85</td>\n",
       "      <td>3.25</td>\n",
       "      <td>3.75</td>\n",
       "      <td>1.91</td>\n",
       "      <td>3.25</td>\n",
       "      <td>3.60</td>\n",
       "    </tr>\n",
       "    <tr>\n",
       "      <th>2</th>\n",
       "      <td>0</td>\n",
       "      <td>3</td>\n",
       "      <td>2.38</td>\n",
       "      <td>3.30</td>\n",
       "      <td>2.75</td>\n",
       "      <td>2.40</td>\n",
       "      <td>3.30</td>\n",
       "      <td>2.55</td>\n",
       "      <td>2.60</td>\n",
       "      <td>3.1</td>\n",
       "      <td>...</td>\n",
       "      <td>2.50</td>\n",
       "      <td>2.35</td>\n",
       "      <td>3.25</td>\n",
       "      <td>2.65</td>\n",
       "      <td>2.50</td>\n",
       "      <td>3.20</td>\n",
       "      <td>2.50</td>\n",
       "      <td>2.30</td>\n",
       "      <td>3.20</td>\n",
       "      <td>2.75</td>\n",
       "    </tr>\n",
       "    <tr>\n",
       "      <th>3</th>\n",
       "      <td>5</td>\n",
       "      <td>0</td>\n",
       "      <td>1.44</td>\n",
       "      <td>3.75</td>\n",
       "      <td>7.50</td>\n",
       "      <td>1.40</td>\n",
       "      <td>4.00</td>\n",
       "      <td>6.80</td>\n",
       "      <td>1.40</td>\n",
       "      <td>3.9</td>\n",
       "      <td>...</td>\n",
       "      <td>7.50</td>\n",
       "      <td>1.45</td>\n",
       "      <td>3.75</td>\n",
       "      <td>6.50</td>\n",
       "      <td>1.50</td>\n",
       "      <td>3.75</td>\n",
       "      <td>5.50</td>\n",
       "      <td>1.44</td>\n",
       "      <td>3.75</td>\n",
       "      <td>6.50</td>\n",
       "    </tr>\n",
       "    <tr>\n",
       "      <th>4</th>\n",
       "      <td>1</td>\n",
       "      <td>3</td>\n",
       "      <td>5.00</td>\n",
       "      <td>3.50</td>\n",
       "      <td>1.65</td>\n",
       "      <td>5.00</td>\n",
       "      <td>3.50</td>\n",
       "      <td>1.60</td>\n",
       "      <td>4.00</td>\n",
       "      <td>3.3</td>\n",
       "      <td>...</td>\n",
       "      <td>1.73</td>\n",
       "      <td>4.50</td>\n",
       "      <td>3.40</td>\n",
       "      <td>1.65</td>\n",
       "      <td>4.50</td>\n",
       "      <td>3.50</td>\n",
       "      <td>1.65</td>\n",
       "      <td>4.75</td>\n",
       "      <td>3.30</td>\n",
       "      <td>1.67</td>\n",
       "    </tr>\n",
       "  </tbody>\n",
       "</table>\n",
       "<p>5 rows × 32 columns</p>\n",
       "</div>"
      ],
      "text/plain": [
       "   home_team_goal  away_team_goal  B365H  B365D  B365A   BWH   BWD   BWA  \\\n",
       "0               1               1   1.73   3.40   5.00  1.75  3.35  4.20   \n",
       "1               0               0   1.95   3.20   3.60  1.80  3.30  3.95   \n",
       "2               0               3   2.38   3.30   2.75  2.40  3.30  2.55   \n",
       "3               5               0   1.44   3.75   7.50  1.40  4.00  6.80   \n",
       "4               1               3   5.00   3.50   1.65  5.00  3.50  1.60   \n",
       "\n",
       "    IWH  IWD  ...   SJA   VCH   VCD   VCA   GBH   GBD   GBA   BSH   BSD   BSA  \n",
       "0  1.85  3.2  ...  4.00  1.65  3.40  4.50  1.78  3.25  4.00  1.73  3.40  4.20  \n",
       "1  1.90  3.2  ...  3.80  2.00  3.25  3.25  1.85  3.25  3.75  1.91  3.25  3.60  \n",
       "2  2.60  3.1  ...  2.50  2.35  3.25  2.65  2.50  3.20  2.50  2.30  3.20  2.75  \n",
       "3  1.40  3.9  ...  7.50  1.45  3.75  6.50  1.50  3.75  5.50  1.44  3.75  6.50  \n",
       "4  4.00  3.3  ...  1.73  4.50  3.40  1.65  4.50  3.50  1.65  4.75  3.30  1.67  \n",
       "\n",
       "[5 rows x 32 columns]"
      ]
     },
     "execution_count": 61,
     "metadata": {},
     "output_type": "execute_result"
    }
   ],
   "source": [
    "#creating a series that will be used for a regression algorithm\n",
    "total_goals= df_small['home_team_goal']+df_small['away_team_goal']\n",
    "df_small.head()"
   ]
  },
  {
   "cell_type": "markdown",
   "id": "e13f1d85",
   "metadata": {},
   "source": [
    "### Regression algorithm\n",
    "\n",
    "The following lines are the regression algorithms. This project has an example of both simple and multiple regression. \n",
    "\n",
    "#### Simple regression\n",
    "The simple regression compares the number of home team goals to the number of total goals for each game. We first split the data into train and test. We then make a model using the train data, which is  80% of the total. We then test the model with the remain 20% of the data to see the accuracy. This model resulted in an R-2 score of .54"
   ]
  },
  {
   "cell_type": "code",
   "execution_count": 62,
   "id": "9c064d60",
   "metadata": {},
   "outputs": [
    {
     "data": {
      "text/plain": [
       "<matplotlib.collections.PathCollection at 0x128a7e6a0>"
      ]
     },
     "execution_count": 62,
     "metadata": {},
     "output_type": "execute_result"
    },
    {
     "data": {
      "image/png": "[encoded data removed]",
      "text/plain": [
       "<Figure size 432x288 with 1 Axes>"
      ]
     },
     "metadata": {
      "needs_background": "light"
     },
     "output_type": "display_data"
    }
   ],
   "source": [
    "mp.scatter(df_small.home_team_goal, total_goals,  color='blue')"
   ]
  },
  {
   "cell_type": "code",
   "execution_count": 63,
   "id": "b5223a36",
   "metadata": {},
   "outputs": [
    {
     "name": "stdout",
     "output_type": "stream",
     "text": [
      "Train set: (20783,) (20783,)\n",
      "Test set: (5196,) (5196,)\n"
     ]
    }
   ],
   "source": [
    "X_train, X_test, y_train, y_test = train_test_split( df_small['home_team_goal'], total_goals, test_size=0.2, random_state=4)\n",
    "\n",
    "print ('Train set:', X_train.shape,  y_train.shape)\n",
    "print ('Test set:', X_test.shape,  y_test.shape)"
   ]
  },
  {
   "cell_type": "code",
   "execution_count": 64,
   "id": "3f94dc3a",
   "metadata": {},
   "outputs": [
    {
     "name": "stdout",
     "output_type": "stream",
     "text": [
      "Coefficients:  [0.94382072]\n",
      "Intercept:  1.2510157567936864\n"
     ]
    }
   ],
   "source": [
    "simple_regression= linear_model.LinearRegression()\n",
    "\n",
    "train_x= np.asanyarray(X_train)\n",
    "train_y = np.asanyarray(y_train)\n",
    "\n",
    "train_x=train_x.reshape(-1,1)\n",
    "\n",
    "simple_regression.fit(train_x, train_y)\n",
    "\n",
    "print ('Coefficients: ', simple_regression.coef_)\n",
    "print ('Intercept: ',simple_regression.intercept_)"
   ]
  },
  {
   "cell_type": "code",
   "execution_count": 65,
   "id": "71bd1ff6",
   "metadata": {},
   "outputs": [
    {
     "data": {
      "text/plain": [
       "[<matplotlib.lines.Line2D at 0x12858a100>]"
      ]
     },
     "execution_count": 65,
     "metadata": {},
     "output_type": "execute_result"
    },
    {
     "data": {
      "image/png": "[encoded data removed]",
      "text/plain": [
       "<Figure size 432x288 with 1 Axes>"
      ]
     },
     "metadata": {
      "needs_background": "light"
     },
     "output_type": "display_data"
    }
   ],
   "source": [
    "mp.scatter(df_small.home_team_goal, total_goals,  color='blue')\n",
    "mp.plot(train_x, simple_regression.coef_[0]*train_x + simple_regression.intercept_, '-r')"
   ]
  },
  {
   "cell_type": "code",
   "execution_count": 66,
   "id": "9153cba1",
   "metadata": {},
   "outputs": [
    {
     "name": "stdout",
     "output_type": "stream",
     "text": [
      "Mean absolute error: 0.89\n",
      "Residual sum of squares (MSE): 1.30\n",
      "R2-score: 0.54\n"
     ]
    }
   ],
   "source": [
    "test_x = np.asanyarray(X_test)\n",
    "test_y = np.asanyarray(y_test)\n",
    "\n",
    "test_x= test_x.reshape(-1,1)\n",
    "\n",
    "test_y_predict = simple_regression.predict(test_x)\n",
    "\n",
    "\n",
    "\n",
    "print(\"Mean absolute error: %.2f\" % np.mean(np.absolute(test_y_predict - test_y)))\n",
    "print(\"Residual sum of squares (MSE): %.2f\" % np.mean((test_y_predict - test_y) ** 2))\n",
    "print(\"R2-score: %.2f\" % r2_score(test_y , test_y_predict) )"
   ]
  },
  {
   "cell_type": "code",
   "execution_count": null,
   "id": "d410c2e7",
   "metadata": {},
   "outputs": [],
   "source": []
  },
  {
   "cell_type": "markdown",
   "id": "c1f36a5a",
   "metadata": {},
   "source": [
    "#### Multiple regression\n",
    "The multiple regression tests a different correlation. In this case, the regretion model will try to predict if a team will win, draw or lose. -1 means the home team lost, 0 means draw, and 1 means a home team victory. This model is much better than the simple regression model. This model showed to have an R-2 score of .74.  "
   ]
  },
  {
   "cell_type": "code",
   "execution_count": 67,
   "id": "a64d807c",
   "metadata": {},
   "outputs": [],
   "source": [
    "#creating a series of either win, loss, draw\n",
    "conditions=[\n",
    "    (df_small['home_team_goal']>df_small['away_team_goal']),\n",
    "    (df_small['home_team_goal']==df_small['away_team_goal']),\n",
    "    (df_small['home_team_goal']<df_small['away_team_goal'])\n",
    "]\n",
    "\n",
    "values = [1,0,-1]\n",
    "result=np.select(conditions, values)"
   ]
  },
  {
   "cell_type": "code",
   "execution_count": 68,
   "id": "c1aca72d",
   "metadata": {},
   "outputs": [
    {
     "name": "stdout",
     "output_type": "stream",
     "text": [
      "Train set: (20783, 32) (20783,)\n",
      "Test set: (5196, 32) (5196,)\n"
     ]
    }
   ],
   "source": [
    "#Spliting the model into an 80-20 split. This split will be used for the K Nearest Neighbors algorithm as well\n",
    "X_train, X_test, y_train, y_test = train_test_split( df_small, result, test_size=0.2, random_state=4)\n",
    "\n",
    "print ('Train set:', X_train.shape,  y_train.shape)\n",
    "print ('Test set:', X_test.shape,  y_test.shape)"
   ]
  },
  {
   "cell_type": "code",
   "execution_count": 69,
   "id": "f47d117b",
   "metadata": {},
   "outputs": [
    {
     "name": "stdout",
     "output_type": "stream",
     "text": [
      "Coefficients:  [ 3.86540468e-01 -4.41155423e-01 -3.15291938e-02  1.67934113e-02\n",
      " -2.61623267e-03  1.80096452e-02  4.41844324e-03  1.37570835e-02\n",
      " -1.64843604e-02  4.84531718e-02 -8.11683189e-03  1.25872637e-02\n",
      " -3.98763232e-02 -1.43553602e-03  2.63506255e-02 -1.60606166e-02\n",
      "  1.24477878e-02 -2.17229113e-03  5.54139279e-03 -1.71374988e-03\n",
      " -1.20098056e-02  3.80041168e-03 -6.88336480e-04 -6.00929802e-03\n",
      " -2.27942912e-02 -1.14521853e-02  2.58122135e-04  3.29849154e-04\n",
      "  1.00401875e-02  3.50135214e-02 -4.61720812e-02  9.56287216e-03]\n"
     ]
    }
   ],
   "source": [
    "\n",
    "regr = linear_model.LinearRegression()\n",
    "x = np.asanyarray(X_train)\n",
    "y = np.asanyarray(y_train)\n",
    "\n",
    "#fitting the model\n",
    "regr.fit (x, y)\n",
    "# The coefficients\n",
    "print ('Coefficients: ', regr.coef_)"
   ]
  },
  {
   "cell_type": "code",
   "execution_count": 70,
   "id": "a778cd0c",
   "metadata": {},
   "outputs": [
    {
     "name": "stdout",
     "output_type": "stream",
     "text": [
      "Residual sum of squares: 0.19\n",
      "Variance score: 0.74\n",
      "R2-score: 0.74\n"
     ]
    },
    {
     "name": "stderr",
     "output_type": "stream",
     "text": [
      "/Users/roshanpatel/anaconda3/lib/python3.9/site-packages/sklearn/base.py:443: UserWarning: X has feature names, but LinearRegression was fitted without feature names\n",
      "  warnings.warn(\n"
     ]
    }
   ],
   "source": [
    "#predicting the results using the test data\n",
    "y_hat= regr.predict(X_test)\n",
    "x = np.asanyarray(X_test)\n",
    "y = np.asanyarray(y_test)\n",
    "print(\"Residual sum of squares: %.2f\"\n",
    "      % np.mean((y_hat - y) ** 2))\n",
    "\n",
    "# Explained variance score: 1 is perfect prediction\n",
    "print('Variance score: %.2f' % regr.score(x, y))\n",
    "print(\"R2-score: %.2f\" % r2_score(y , y_hat) )"
   ]
  },
  {
   "cell_type": "code",
   "execution_count": null,
   "id": "4df13f7a",
   "metadata": {},
   "outputs": [],
   "source": []
  },
  {
   "cell_type": "markdown",
   "id": "188194c4",
   "metadata": {},
   "source": [
    "### K Nearest Neighbors\n",
    "\n",
    "The following is a K Nearest Neighbors(KNN) algorithm. This algorithm is used to predict the result of a game, using the rest of the info given in the dataset. This model shows an prediction accuracy of .9559 on the test data. This model has a much higher accuracy than the simple and multiple regression models. The algorithm plots the test point, and find the K nearest datapoints in the data, and assume the new data follow the majority of this group. This algorithm shows that the effectiveness is the max at K=5."
   ]
  },
  {
   "cell_type": "code",
   "execution_count": 71,
   "id": "e1ff3d3e",
   "metadata": {},
   "outputs": [
    {
     "data": {
      "text/plain": [
       "array([0.95419554, 0.94726713, 0.95342571, 0.95592764, 0.95592764,\n",
       "       0.95496536, 0.95515781, 0.95188607, 0.9513087 , 0.94861432,\n",
       "       0.94765204, 0.94765204, 0.94668976, 0.94572748, 0.94361047,\n",
       "       0.94380293, 0.94110855, 0.94053118, 0.94168591])"
      ]
     },
     "execution_count": 71,
     "metadata": {},
     "output_type": "execute_result"
    }
   ],
   "source": [
    "#setting how many K to go up to in test\n",
    "Ks = 20\n",
    "mean_acc = np.zeros((Ks-1))\n",
    "std_acc = np.zeros((Ks-1))\n",
    "\n",
    "#testing accuracy for all K from 1-20\n",
    "for n in range(1,Ks):\n",
    "    \n",
    "    #Train Model and Predict  \n",
    "    neigh = KNeighborsClassifier(n_neighbors = n).fit(X_train,y_train)\n",
    "    yhat=neigh.predict(X_test)\n",
    "    mean_acc[n-1] = metrics.accuracy_score(y_test, yhat)\n",
    "\n",
    "    \n",
    "    std_acc[n-1]=np.std(yhat==y_test)/np.sqrt(yhat.shape[0])\n",
    "\n",
    "mean_acc"
   ]
  },
  {
   "cell_type": "code",
   "execution_count": 72,
   "id": "6fbd568c",
   "metadata": {},
   "outputs": [
    {
     "data": {
      "image/png": "[encoded data removed]",
      "text/plain": [
       "<Figure size 432x288 with 1 Axes>"
      ]
     },
     "metadata": {
      "needs_background": "light"
     },
     "output_type": "display_data"
    }
   ],
   "source": [
    "mp.plot(range(1,Ks),mean_acc,'g')\n",
    "mp.fill_between(range(1,Ks),mean_acc - 1 * std_acc,mean_acc + 1 * std_acc, alpha=0.10)\n",
    "mp.fill_between(range(1,Ks),mean_acc - 3 * std_acc,mean_acc + 3 * std_acc, alpha=0.10,color=\"green\")\n",
    "mp.legend(('Accuracy ', '+/- 1xstd','+/- 3xstd'))\n",
    "mp.ylabel('Accuracy ')\n",
    "mp.xlabel('Number of Neighbors (K)')\n",
    "mp.tight_layout()\n",
    "mp.show()"
   ]
  },
  {
   "cell_type": "code",
   "execution_count": 73,
   "id": "468bfde1",
   "metadata": {},
   "outputs": [
    {
     "data": {
      "text/plain": [
       "KNeighborsClassifier()"
      ]
     },
     "execution_count": 73,
     "metadata": {},
     "output_type": "execute_result"
    }
   ],
   "source": [
    "k = 5\n",
    "#Train Model and Predict  \n",
    "neigh = KNeighborsClassifier(n_neighbors = k).fit(X_train,y_train)\n",
    "neigh"
   ]
  },
  {
   "cell_type": "code",
   "execution_count": 74,
   "id": "9d32959e",
   "metadata": {},
   "outputs": [
    {
     "data": {
      "text/plain": [
       "array([-1,  1,  0,  1,  1])"
      ]
     },
     "execution_count": 74,
     "metadata": {},
     "output_type": "execute_result"
    }
   ],
   "source": [
    "yhat = neigh.predict(X_test)\n",
    "yhat[0:5]"
   ]
  },
  {
   "cell_type": "code",
   "execution_count": 75,
   "id": "d686af65",
   "metadata": {},
   "outputs": [
    {
     "name": "stdout",
     "output_type": "stream",
     "text": [
      "Test set Accuracy:  0.9559276366435719\n",
      "The model produced a Mean Squared Error of: 0.05677444187836798\n"
     ]
    }
   ],
   "source": [
    "print(\"Test set Accuracy: \", metrics.accuracy_score(y_test, yhat))\n",
    "print(\"The model produced a Mean Squared Error of:\",mean_squared_error(y_test, yhat))"
   ]
  },
  {
   "cell_type": "code",
   "execution_count": null,
   "id": "33c12242",
   "metadata": {},
   "outputs": [],
   "source": []
  },
  {
   "cell_type": "markdown",
   "id": "651b4aae",
   "metadata": {},
   "source": [
    "## Final report summarized conclusion\n",
    "\n",
    "### Abstract\n",
    "\n",
    "This project tested to see if I can predict the outcome of a Soccer game when given the betting odds and other stats about the game. The first step was to get Numerical and graphical summaries of the data to understand it better. Then We needed to handel the missing values in the data so that they so not skew the data. Then we made our algorithms to predict the outcomes of the games using trained models.\n",
    "\n",
    "### Background\n",
    "This project uses data of every soccer game played in the main european countries from 2008 until 2016. This data stored 25979 games, each being a row. Each game recorded the score, season, date, and betting odds from many companies for many of the fows. Each company uses their own scale and factors to determine the odds, so each number is different.\n",
    "\n",
    "### Methods\n",
    "This project used many different methods to show the results. The first method we used were basic Pandas analysis tools, and MatplotLib graphing tools. Then we used seaborns regression plot to find a line of best fit. Then we used scikit-learn to make a regression line (both simple and multiple), and for a KNN and K Means Clustering algorithm.\n",
    "\n",
    "### Results\n",
    "The results of this project were extremely succsessful. With the parts of the project where fitting a model and making a prediction were involved, we had a lot of success. The Simple Regression Model did not produce a great result, with an accuracy of only .54. However, the Multiple regression was much better, with an accuracy of .74. Finnaly, we saw the most amount of success with the KNN model, which returned an accuracy of .96.\n",
    "\n",
    "### Discussion and conclusions\n",
    "In conclusion, this project can succesfully predict the outcome of a soccer game using basic data that is given. This project can be used in the future by people who are into sports betting to help them hopefully make the best bet. This project can also be used by the teams that are playing. If the alogrithm predicts that the team will likely lose, they might change their strategy to get an advantage. This project can be used for a variety of task depending on what the user wants\n",
    "\n",
    "### References\n",
    "This project uses the dataset from the follwing link:\n",
    "https://www.kaggle.com/datasets/hugomathien/soccer?resource=download&select=database.sqlite"
   ]
  },
  {
   "cell_type": "markdown",
   "id": "3b7f71ec",
   "metadata": {},
   "source": [
    "## Thank you for viewing this project"
   ]
  }
 ],
 "metadata": {
  "kernelspec": {
   "display_name": "Python 3 (ipykernel)",
   "language": "python",
   "name": "python3"
  },
  "language_info": {
   "codemirror_mode": {
    "name": "ipython",
    "version": 3
   },
   "file_extension": ".py",
   "mimetype": "text/x-python",
   "name": "python",
   "nbconvert_exporter": "python",
   "pygments_lexer": "ipython3",
   "version": "3.9.12"
  }
 },
 "nbformat": 4,
 "nbformat_minor": 5
}
